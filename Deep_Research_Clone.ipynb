{
  "cells": [
    {
      "cell_type": "code",
      "execution_count": 13,
      "metadata": {
        "id": "RWtnpziQvYUR"
      },
      "outputs": [],
      "source": [
        "from openai import OpenAI\n",
        "import os, json, itertools\n",
        "from IPython.display import display, Markdown"
      ]
    },
    {
      "cell_type": "code",
      "execution_count": 24,
      "metadata": {
        "colab": {
          "base_uri": "https://localhost:8080/"
        },
        "id": "wXM32gzum330",
        "outputId": "df4be239-c611-4939-d690-3babff15d260"
      },
      "outputs": [
        {
          "name": "stdout",
          "output_type": "stream",
          "text": [
            "Enter your OpenAI API key: ··········\n"
          ]
        }
      ],
      "source": [
        "import getpass\n",
        "\n",
        "openai_api_key = getpass.getpass(\"Enter your OpenAI API key: \")\n"
      ]
    },
    {
      "cell_type": "code",
      "execution_count": 25,
      "metadata": {
        "id": "XqLy46eanSYk"
      },
      "outputs": [],
      "source": [
        "# Set up OpenAI API key in the os\n",
        "os.environ['OPENAI_API_KEY'] = openai_api_key\n",
        "\n"
      ]
    },
    {
      "cell_type": "code",
      "execution_count": 26,
      "metadata": {
        "id": "DLeymsjqltFb"
      },
      "outputs": [],
      "source": [
        "# from google.colab import userdata\n",
        "# userdata.set_secret('ai_agents_openai')\n"
      ]
    },
    {
      "cell_type": "code",
      "execution_count": 27,
      "metadata": {
        "id": "hqeSZXIaP4ph"
      },
      "outputs": [],
      "source": [
        "# from google.colab import userdata\n",
        "# openai_api_key = userdata.get('ai_agents_openai')"
      ]
    },
    {
      "cell_type": "code",
      "execution_count": 28,
      "metadata": {
        "id": "Fm6Zvbs5QDhy"
      },
      "outputs": [],
      "source": [
        "# Connect to the OpenAI api\n",
        "client = OpenAI()"
      ]
    },
    {
      "cell_type": "markdown",
      "metadata": {
        "id": "8DPeUOJ9QWMo"
      },
      "source": [
        "# Define the inputs"
      ]
    },
    {
      "cell_type": "code",
      "execution_count": 34,
      "metadata": {
        "id": "JJQXJtqJQXUd"
      },
      "outputs": [],
      "source": [
        "# Define the model inputs\n",
        "MODEL = \"gpt-4o\"\n",
        "MODEL_MINI = \"gpt-3.5-turbo\"\n",
        "TOOLS = [{ \"type\": \"web_search\" }]"
      ]
    },
    {
      "cell_type": "code",
      "execution_count": 35,
      "metadata": {
        "id": "gmQgwWOTS3bR"
      },
      "outputs": [],
      "source": [
        "# Developer message definition\n",
        "developer_message = \"\"\"\n",
        "You are an expert Deep Researcher.\n",
        "You provide complete and in depth research to the user.\n",
        "\"\"\"\n"
      ]
    },
    {
      "cell_type": "code",
      "execution_count": 36,
      "metadata": {
        "colab": {
          "base_uri": "https://localhost:8080/",
          "height": 54
        },
        "id": "E_oX4UZZQ8mi",
        "outputId": "bc462d83-3d36-44bc-f48d-a832b70c5ac5"
      },
      "outputs": [
        {
          "name": "stdout",
          "output_type": "stream",
          "text": [
            "Please enter the research topic: vibe coding\n"
          ]
        },
        {
          "data": {
            "application/vnd.google.colaboratory.intrinsic+json": {
              "type": "string"
            },
            "text/plain": [
              "'vibe coding'"
            ]
          },
          "execution_count": 36,
          "metadata": {},
          "output_type": "execute_result"
        }
      ],
      "source": [
        "# Request the topic of research\n",
        "topic = input(\"Please enter the research topic: \")\n",
        "topic"
      ]
    },
    {
      "cell_type": "markdown",
      "metadata": {
        "id": "qAlkNxBPSPeH"
      },
      "source": [
        "# LLM asks questions"
      ]
    },
    {
      "cell_type": "code",
      "execution_count": 37,
      "metadata": {
        "id": "UZ3fZXEvTGRP"
      },
      "outputs": [],
      "source": [
        "# Define here the prompt to clarify\n",
        "prompt_to_clarify = f\"\"\"\n",
        "Ask 5 numbered clarifying question to the user about the topic: {topic}.\n",
        "The goal of the questions is to understand the intended purpose of the research.\n",
        "Reply only with the questions\n",
        "\"\"\""
      ]
    },
    {
      "cell_type": "code",
      "execution_count": 38,
      "metadata": {
        "colab": {
          "base_uri": "https://localhost:8080/",
          "height": 406
        },
        "id": "5yy1LDr7SSdc",
        "outputId": "1fdb755a-e39e-4fe3-80d7-5d29155d729a"
      },
      "outputs": [
        {
          "ename": "RateLimitError",
          "evalue": "Error code: 429 - {'error': {'message': 'You exceeded your current quota, please check your plan and billing details. For more information on this error, read the docs: https://platform.openai.com/docs/guides/error-codes/api-errors.', 'type': 'insufficient_quota', 'param': None, 'code': 'insufficient_quota'}}",
          "output_type": "error",
          "traceback": [
            "\u001b[0;31m---------------------------------------------------------------------------\u001b[0m",
            "\u001b[0;31mRateLimitError\u001b[0m                            Traceback (most recent call last)",
            "\u001b[0;32m/tmp/ipython-input-38-3318571681.py\u001b[0m in \u001b[0;36m<cell line: 0>\u001b[0;34m()\u001b[0m\n\u001b[1;32m      1\u001b[0m \u001b[0;31m# Get the OpenAI API to ask 5 clarifying questions\u001b[0m\u001b[0;34m\u001b[0m\u001b[0;34m\u001b[0m\u001b[0m\n\u001b[0;32m----> 2\u001b[0;31m clarify = client.responses.create(\n\u001b[0m\u001b[1;32m      3\u001b[0m     \u001b[0mmodel\u001b[0m \u001b[0;34m=\u001b[0m \u001b[0mMODEL_MINI\u001b[0m\u001b[0;34m,\u001b[0m\u001b[0;34m\u001b[0m\u001b[0;34m\u001b[0m\u001b[0m\n\u001b[1;32m      4\u001b[0m     \u001b[0minput\u001b[0m \u001b[0;34m=\u001b[0m \u001b[0mprompt_to_clarify\u001b[0m\u001b[0;34m,\u001b[0m\u001b[0;34m\u001b[0m\u001b[0;34m\u001b[0m\u001b[0m\n\u001b[1;32m      5\u001b[0m     \u001b[0minstructions\u001b[0m \u001b[0;34m=\u001b[0m \u001b[0mdeveloper_message\u001b[0m\u001b[0;34m\u001b[0m\u001b[0;34m\u001b[0m\u001b[0m\n",
            "\u001b[0;32m/usr/local/lib/python3.11/dist-packages/openai/resources/responses/responses.py\u001b[0m in \u001b[0;36mcreate\u001b[0;34m(self, background, include, input, instructions, max_output_tokens, max_tool_calls, metadata, model, parallel_tool_calls, previous_response_id, prompt, reasoning, service_tier, store, stream, temperature, text, tool_choice, tools, top_logprobs, top_p, truncation, user, extra_headers, extra_query, extra_body, timeout)\u001b[0m\n\u001b[1;32m    733\u001b[0m         \u001b[0mtimeout\u001b[0m\u001b[0;34m:\u001b[0m \u001b[0mfloat\u001b[0m \u001b[0;34m|\u001b[0m \u001b[0mhttpx\u001b[0m\u001b[0;34m.\u001b[0m\u001b[0mTimeout\u001b[0m \u001b[0;34m|\u001b[0m \u001b[0;32mNone\u001b[0m \u001b[0;34m|\u001b[0m \u001b[0mNotGiven\u001b[0m \u001b[0;34m=\u001b[0m \u001b[0mNOT_GIVEN\u001b[0m\u001b[0;34m,\u001b[0m\u001b[0;34m\u001b[0m\u001b[0;34m\u001b[0m\u001b[0m\n\u001b[1;32m    734\u001b[0m     ) -> Response | Stream[ResponseStreamEvent]:\n\u001b[0;32m--> 735\u001b[0;31m         return self._post(\n\u001b[0m\u001b[1;32m    736\u001b[0m             \u001b[0;34m\"/responses\"\u001b[0m\u001b[0;34m,\u001b[0m\u001b[0;34m\u001b[0m\u001b[0;34m\u001b[0m\u001b[0m\n\u001b[1;32m    737\u001b[0m             body=maybe_transform(\n",
            "\u001b[0;32m/usr/local/lib/python3.11/dist-packages/openai/_base_client.py\u001b[0m in \u001b[0;36mpost\u001b[0;34m(self, path, cast_to, body, options, files, stream, stream_cls)\u001b[0m\n\u001b[1;32m   1254\u001b[0m             \u001b[0mmethod\u001b[0m\u001b[0;34m=\u001b[0m\u001b[0;34m\"post\"\u001b[0m\u001b[0;34m,\u001b[0m \u001b[0murl\u001b[0m\u001b[0;34m=\u001b[0m\u001b[0mpath\u001b[0m\u001b[0;34m,\u001b[0m \u001b[0mjson_data\u001b[0m\u001b[0;34m=\u001b[0m\u001b[0mbody\u001b[0m\u001b[0;34m,\u001b[0m \u001b[0mfiles\u001b[0m\u001b[0;34m=\u001b[0m\u001b[0mto_httpx_files\u001b[0m\u001b[0;34m(\u001b[0m\u001b[0mfiles\u001b[0m\u001b[0;34m)\u001b[0m\u001b[0;34m,\u001b[0m \u001b[0;34m**\u001b[0m\u001b[0moptions\u001b[0m\u001b[0;34m\u001b[0m\u001b[0;34m\u001b[0m\u001b[0m\n\u001b[1;32m   1255\u001b[0m         )\n\u001b[0;32m-> 1256\u001b[0;31m         \u001b[0;32mreturn\u001b[0m \u001b[0mcast\u001b[0m\u001b[0;34m(\u001b[0m\u001b[0mResponseT\u001b[0m\u001b[0;34m,\u001b[0m \u001b[0mself\u001b[0m\u001b[0;34m.\u001b[0m\u001b[0mrequest\u001b[0m\u001b[0;34m(\u001b[0m\u001b[0mcast_to\u001b[0m\u001b[0;34m,\u001b[0m \u001b[0mopts\u001b[0m\u001b[0;34m,\u001b[0m \u001b[0mstream\u001b[0m\u001b[0;34m=\u001b[0m\u001b[0mstream\u001b[0m\u001b[0;34m,\u001b[0m \u001b[0mstream_cls\u001b[0m\u001b[0;34m=\u001b[0m\u001b[0mstream_cls\u001b[0m\u001b[0;34m)\u001b[0m\u001b[0;34m)\u001b[0m\u001b[0;34m\u001b[0m\u001b[0;34m\u001b[0m\u001b[0m\n\u001b[0m\u001b[1;32m   1257\u001b[0m \u001b[0;34m\u001b[0m\u001b[0m\n\u001b[1;32m   1258\u001b[0m     def patch(\n",
            "\u001b[0;32m/usr/local/lib/python3.11/dist-packages/openai/_base_client.py\u001b[0m in \u001b[0;36mrequest\u001b[0;34m(self, cast_to, options, stream, stream_cls)\u001b[0m\n\u001b[1;32m   1042\u001b[0m \u001b[0;34m\u001b[0m\u001b[0m\n\u001b[1;32m   1043\u001b[0m                 \u001b[0mlog\u001b[0m\u001b[0;34m.\u001b[0m\u001b[0mdebug\u001b[0m\u001b[0;34m(\u001b[0m\u001b[0;34m\"Re-raising status error\"\u001b[0m\u001b[0;34m)\u001b[0m\u001b[0;34m\u001b[0m\u001b[0;34m\u001b[0m\u001b[0m\n\u001b[0;32m-> 1044\u001b[0;31m                 \u001b[0;32mraise\u001b[0m \u001b[0mself\u001b[0m\u001b[0;34m.\u001b[0m\u001b[0m_make_status_error_from_response\u001b[0m\u001b[0;34m(\u001b[0m\u001b[0merr\u001b[0m\u001b[0;34m.\u001b[0m\u001b[0mresponse\u001b[0m\u001b[0;34m)\u001b[0m \u001b[0;32mfrom\u001b[0m \u001b[0;32mNone\u001b[0m\u001b[0;34m\u001b[0m\u001b[0;34m\u001b[0m\u001b[0m\n\u001b[0m\u001b[1;32m   1045\u001b[0m \u001b[0;34m\u001b[0m\u001b[0m\n\u001b[1;32m   1046\u001b[0m             \u001b[0;32mbreak\u001b[0m\u001b[0;34m\u001b[0m\u001b[0;34m\u001b[0m\u001b[0m\n",
            "\u001b[0;31mRateLimitError\u001b[0m: Error code: 429 - {'error': {'message': 'You exceeded your current quota, please check your plan and billing details. For more information on this error, read the docs: https://platform.openai.com/docs/guides/error-codes/api-errors.', 'type': 'insufficient_quota', 'param': None, 'code': 'insufficient_quota'}}"
          ]
        }
      ],
      "source": [
        "# Get the OpenAI API to ask 5 clarifying questions\n",
        "clarify = client.responses.create(\n",
        "    model = MODEL_MINI,\n",
        "    input = prompt_to_clarify,\n",
        "    instructions = developer_message\n",
        ")"
      ]
    },
    {
      "cell_type": "code",
      "execution_count": null,
      "metadata": {
        "colab": {
          "base_uri": "https://localhost:8080/",
          "height": 182
        },
        "id": "NNS5vLzbUjKr",
        "outputId": "8706975b-6d5a-4df3-cffc-ba8e614ed4d9"
      },
      "outputs": [
        {
          "ename": "NameError",
          "evalue": "name 'clarify' is not defined",
          "output_type": "error",
          "traceback": [
            "\u001b[0;31m---------------------------------------------------------------------------\u001b[0m",
            "\u001b[0;31mNameError\u001b[0m                                 Traceback (most recent call last)",
            "\u001b[0;32m/tmp/ipython-input-30-545207830.py\u001b[0m in \u001b[0;36m<cell line: 0>\u001b[0;34m()\u001b[0m\n\u001b[1;32m      1\u001b[0m \u001b[0;31m# Get the questions\u001b[0m\u001b[0;34m\u001b[0m\u001b[0;34m\u001b[0m\u001b[0m\n\u001b[0;32m----> 2\u001b[0;31m \u001b[0mquestions\u001b[0m \u001b[0;34m=\u001b[0m \u001b[0mclarify\u001b[0m\u001b[0;34m.\u001b[0m\u001b[0moutput\u001b[0m\u001b[0;34m[\u001b[0m\u001b[0;36m0\u001b[0m\u001b[0;34m]\u001b[0m\u001b[0;34m.\u001b[0m\u001b[0mcontent\u001b[0m\u001b[0;34m[\u001b[0m\u001b[0;36m0\u001b[0m\u001b[0;34m]\u001b[0m\u001b[0;34m.\u001b[0m\u001b[0mtext\u001b[0m\u001b[0;34m.\u001b[0m\u001b[0msplit\u001b[0m\u001b[0;34m(\u001b[0m \u001b[0;34m\"\\n\"\u001b[0m\u001b[0;34m)\u001b[0m\u001b[0;34m\u001b[0m\u001b[0;34m\u001b[0m\u001b[0m\n\u001b[0m\u001b[1;32m      3\u001b[0m \u001b[0mquestions\u001b[0m\u001b[0;34m\u001b[0m\u001b[0;34m\u001b[0m\u001b[0m\n",
            "\u001b[0;31mNameError\u001b[0m: name 'clarify' is not defined"
          ]
        }
      ],
      "source": [
        "# Get the questions\n",
        "questions = clarify.output[0].content[0].text.split( \"\\n\")\n",
        "questions"
      ]
    },
    {
      "cell_type": "code",
      "execution_count": null,
      "metadata": {
        "colab": {
          "base_uri": "https://localhost:8080/"
        },
        "id": "YU4DuTwRVE-K",
        "outputId": "f71d075c-98de-40a1-e702-ed1e2df662a4"
      },
      "outputs": [
        {
          "name": "stdout",
          "output_type": "stream",
          "text": [
            "1. Are you interested in understanding the technical aspects and implementation of vibe coding or its applications in specific fields?  I am interest in creating a guide to go from basics to advanced in vibe coding\n",
            "2. Is your focus on how vibe coding compares to other coding methodologies or on its unique advantages and challenges?  the focus is on implementation for non-technical or non developpers\n",
            "3. Do you want to explore the historical development and origin of vibe coding or its current trends and future prospects?  focused on current trends and future prospects\n",
            "4. Are you looking for practical examples and case studies demonstrating vibe coding in real-world projects?  Yes\n",
            "5. Is your research intended for academic purposes, industry application, or personal knowledge enhancement?Knowledge sharing to other non-developpers\n"
          ]
        }
      ],
      "source": [
        "# Ask each question to the user\n",
        "answers = []\n",
        "for question in questions:\n",
        "  answer = input(question)\n",
        "  answers.append(answer)"
      ]
    },
    {
      "cell_type": "markdown",
      "metadata": {
        "id": "jr2uK0R2Vq1x"
      },
      "source": [
        "# Web searches"
      ]
    },
    {
      "cell_type": "markdown",
      "metadata": {
        "id": "NwreMNAkX8ae"
      },
      "source": [
        "## Goal and Queries"
      ]
    },
    {
      "cell_type": "code",
      "execution_count": null,
      "metadata": {
        "id": "aLWfdsa_YU4R"
      },
      "outputs": [],
      "source": [
        "# Write the prompt_goals prompt\n",
        "prompt_goals = f\"\"\"\n",
        "Using the user answers {answers} to que questions {questions}, write a goal sentence and 5 web search queries for the research about {topic}\n",
        "Output: A json list of the goal and the 5 web search queries that will reach it.\n",
        "Format: {{\\\"goal\\\": \\\"...\\\", \\\"queries\\\": [\\\"q1\\\", ....]}}\n",
        "\"\"\""
      ]
    },
    {
      "cell_type": "code",
      "execution_count": null,
      "metadata": {
        "colab": {
          "base_uri": "https://localhost:8080/",
          "height": 125
        },
        "id": "xH5ue1cnVp9p",
        "outputId": "baa8c9d3-715d-4fac-87b6-2cb0a6542275"
      },
      "outputs": [
        {
          "data": {
            "application/vnd.google.colaboratory.intrinsic+json": {
              "type": "string"
            },
            "text/plain": [
              "'{\\n  \"goal\": \"To create a comprehensive, beginner-to-advanced guide for non-technical individuals that explains the basics, practical implementation, and future trends of vibe coding, with a focus on knowledge sharing and accessibility.\",\\n  \"queries\": [\\n    \"What is vibe coding? Beginner\\'s guide for non-developers\",\\n    \"Step-by-step implementation of vibe coding for non-technical users\",\\n    \"Vibe coding vs traditional coding methodologies for beginners\",\\n    \"Current trends and future prospects of vibe coding in technology\",\\n    \"Practical case studies and real-world examples of vibe coding for non-developers\"\\n  ]\\n}'"
            ]
          },
          "execution_count": 33,
          "metadata": {},
          "output_type": "execute_result"
        }
      ],
      "source": [
        "# Use the responses API\n",
        "goal_and_queries = client.responses.create(\n",
        "    model = MODEL,\n",
        "    input = prompt_goals,\n",
        "    previous_response_id = clarify.id,\n",
        "    instructions = developer_message\n",
        ")\n",
        "goal_and_queries.output[0].content[0].text"
      ]
    },
    {
      "cell_type": "code",
      "execution_count": null,
      "metadata": {
        "id": "QuMHcTRXY7yu"
      },
      "outputs": [],
      "source": [
        "# Formatting and loading as JSON\n",
        "plan = json.loads(goal_and_queries.output[0].content[0].text)"
      ]
    },
    {
      "cell_type": "code",
      "execution_count": null,
      "metadata": {
        "colab": {
          "base_uri": "https://localhost:8080/"
        },
        "id": "tCSvG8JFZg2-",
        "outputId": "51867bf9-37c2-463e-f7d8-fd7b56ea1a55"
      },
      "outputs": [
        {
          "name": "stdout",
          "output_type": "stream",
          "text": [
            "To create a comprehensive, beginner-to-advanced guide for non-technical individuals that explains the basics, practical implementation, and future trends of vibe coding, with a focus on knowledge sharing and accessibility.\n",
            "[\"What is vibe coding? Beginner's guide for non-developers\", 'Step-by-step implementation of vibe coding for non-technical users', 'Vibe coding vs traditional coding methodologies for beginners', 'Current trends and future prospects of vibe coding in technology', 'Practical case studies and real-world examples of vibe coding for non-developers']\n"
          ]
        }
      ],
      "source": [
        "# Check the goal and the queries\n",
        "print(plan[\"goal\"])\n",
        "print(plan[\"queries\"])"
      ]
    },
    {
      "cell_type": "code",
      "execution_count": null,
      "metadata": {
        "id": "vOFdUpj1cE98"
      },
      "outputs": [],
      "source": [
        "# Store the goal and queries\n",
        "goal = plan[\"goal\"]\n",
        "queries = plan[\"queries\"]"
      ]
    },
    {
      "cell_type": "markdown",
      "metadata": {
        "id": "-HwQNJ_mZrFD"
      },
      "source": [
        "## Web search"
      ]
    },
    {
      "cell_type": "code",
      "execution_count": null,
      "metadata": {
        "colab": {
          "base_uri": "https://localhost:8080/"
        },
        "id": "zbqKZFSfcLyt",
        "outputId": "f398e565-43f8-4a9a-9e58-c8d76cc35ca3"
      },
      "outputs": [
        {
          "name": "stdout",
          "output_type": "stream",
          "text": [
            "What is vibe coding? Beginner's guide for non-developers\n"
          ]
        }
      ],
      "source": [
        "# Print the first query\n",
        "print(queries[0])"
      ]
    },
    {
      "cell_type": "code",
      "execution_count": null,
      "metadata": {
        "id": "GAPB97ZhZsfm"
      },
      "outputs": [],
      "source": [
        "# Web search with the the responses endpoint\n",
        "web_search = client.responses.create(\n",
        "    model = MODEL,\n",
        "    input = f\"search: {queries[0]}\",\n",
        "    instructions = developer_message,\n",
        "    tools = TOOLS\n",
        ")"
      ]
    },
    {
      "cell_type": "code",
      "execution_count": null,
      "metadata": {
        "colab": {
          "base_uri": "https://localhost:8080/",
          "height": 36
        },
        "id": "rUMU8lLzdLba",
        "outputId": "3cdb1020-ef11-4387-8d0a-449ddd4a005d"
      },
      "outputs": [
        {
          "data": {
            "application/vnd.google.colaboratory.intrinsic+json": {
              "type": "string"
            },
            "text/plain": [
              "'msg_682b1ff18f748198ad64f23662b8a04b0afa23d59108fe16'"
            ]
          },
          "execution_count": 46,
          "metadata": {},
          "output_type": "execute_result"
        }
      ],
      "source": [
        "# Investigate the output\n",
        "# Retrieve the id\n",
        "web_search.output[1].id\n"
      ]
    },
    {
      "cell_type": "code",
      "execution_count": null,
      "metadata": {
        "colab": {
          "base_uri": "https://localhost:8080/",
          "height": 841
        },
        "collapsed": true,
        "id": "LbaxZCGFdkcl",
        "outputId": "6c074263-9af0-4460-f4d8-5540a88a73e5"
      },
      "outputs": [
        {
          "data": {
            "application/vnd.google.colaboratory.intrinsic+json": {
              "type": "string"
            },
            "text/plain": [
              "'Vibe coding is an innovative approach to software development that enables individuals to create applications by describing their ideas in natural language, such as English, rather than writing traditional code. This method leverages artificial intelligence (AI) tools to interpret these descriptions and generate functional software, making app development accessible to those without formal programming experience. ([en.wikipedia.org](https://en.wikipedia.org/wiki/Vibe_coding?utm_source=openai))\\n\\n**Origins of Vibe Coding**\\n\\nThe term \"vibe coding\" was introduced by computer scientist Andrej Karpathy in February 2025. He described it as a conversational approach to coding, where one can \"see things, say things, run things, and copy-paste things, and it mostly works.\" This concept builds upon the idea that the most effective programming language is natural language, allowing users to instruct computers without learning complex syntax. ([en.wikipedia.org](https://en.wikipedia.org/wiki/Vibe_coding?utm_source=openai))\\n\\n**How Vibe Coding Works**\\n\\nIn vibe coding, the user provides a clear, detailed description of the desired application or functionality. AI-powered platforms then interpret these instructions to generate the corresponding code. For example, a user might describe a to-do list app with features like adding tasks, marking them as complete, and filtering tasks. The AI tool processes this description and produces a working application that meets these specifications. ([medium.com](https://medium.com/%40nicolle.weeks/the-beginners-guide-to-vibe-coding-b5f1eaf0f3e5?utm_source=openai))\\n\\n**Benefits of Vibe Coding**\\n\\n- **Accessibility**: Individuals without coding backgrounds can develop software, democratizing app creation.\\n\\n- **Efficiency**: Rapid prototyping and iteration are possible, allowing users to see results quickly and refine their ideas.\\n\\n- **Creativity**: By focusing on the conceptual aspects rather than technical details, users can explore innovative solutions without being hindered by coding complexities.\\n\\n**Getting Started with Vibe Coding**\\n\\n1. **Choose an AI-Powered Development Tool**: Select a platform that suits your needs. Popular options include:\\n\\n   - **Lovable**: An intuitive interface for non-coders, allowing users to build modern web apps by describing their ideas. ([vibecoding.gumroad.com](https://vibecoding.gumroad.com/l/the-vibe-coding-starter-kit-free-edition?utm_source=openai))\\n\\n   - **Replit**: A cloud-based coding platform with built-in AI assistance, supporting over 50 programming languages. ([datacamp.com](https://www.datacamp.com/blog/vibe-coding?utm_source=openai))\\n\\n   - **Cursor**: An AI-powered code editor built on Visual Studio Code, offering deep code comprehension and assistance. ([datacamp.com](https://www.datacamp.com/blog/vibe-coding?utm_source=openai))\\n\\n2. **Define Your Application**: Clearly articulate what you want your application to do. Consider the problem it solves, the target audience, and the key features. Writing a Product Requirement Document (PRD) can help structure your ideas. ([digitalbourgeois.tistory.com](https://digitalbourgeois.tistory.com/1121?utm_source=openai))\\n\\n3. **Describe Your App in Natural Language**: Provide a detailed description to the AI tool. For instance:\\n\\n   \"Create a simple to-do list app where users can add new tasks, mark tasks as complete, delete tasks, and filter tasks by completed/not completed. The app should have a clean and modern design with a light blue theme.\" ([medium.com](https://medium.com/%40nicolle.weeks/the-beginners-guide-to-vibe-coding-b5f1eaf0f3e5?utm_source=openai))\\n\\n4. **Review and Refine**: Once the AI generates the application, test its functionality. Make adjustments as needed, refining your descriptions to improve the output.\\n\\n**Enhancing Your Vibe Coding Skills**\\n\\n- **Learn Effective Prompting**: Crafting clear and specific prompts is crucial. Be explicit about the desired features and behaviors. Breaking down complex tasks into smaller steps can also improve results. ([architjn.com](https://www.architjn.com/blog/vibe-coding-for-non-technical-users?utm_source=openai))\\n\\n- **Understand Basic Programming Concepts**: While vibe coding minimizes the need for coding knowledge, understanding fundamental concepts like logic and data structures can enhance your ability to guide the AI effectively. ([medium.com](https://medium.com/%40marcel.mercier/vibe-coding-best-practices-and-workflows-v-i-b-e-s-0bad85053726?utm_source=openai))\\n\\n**Limitations and Considerations**\\n\\nWhile vibe coding offers numerous advantages, it\\'s important to be aware of its limitations:\\n\\n- **Code Understanding**: Relying solely on AI-generated code without understanding its functionality can lead to undetected bugs or security vulnerabilities. ([en.wikipedia.org](https://en.wikipedia.org/wiki/Vibe_coding?utm_source=openai))\\n\\n- **Suitability**: Vibe coding is ideal for prototyping and personal projects but may not be suitable for complex, large-scale applications requiring deep technical oversight.\\n\\nBy embracing vibe coding, non-developers can transform their ideas into functional software, breaking down traditional barriers to app development. With the right tools and a clear vision, anyone can become a creator in the digital space. '"
            ]
          },
          "execution_count": 52,
          "metadata": {},
          "output_type": "execute_result"
        }
      ],
      "source": [
        "web_search.output[1].content[0].text"
      ]
    },
    {
      "cell_type": "code",
      "execution_count": null,
      "metadata": {
        "id": "F8M-iSr6ewbf"
      },
      "outputs": [],
      "source": [
        "# Build the function for the web searches\n",
        "def run_search(q):\n",
        "  web_search = client.responses.create(\n",
        "    model = MODEL,\n",
        "    input = f\"search: {q}\",\n",
        "    instructions = developer_message,\n",
        "    tools = TOOLS\n",
        "  )\n",
        "  return {\"query\": q,\n",
        "          \"resp_id\": web_search.output[1].id,\n",
        "          \"research_output\": web_search.output[1].content[0].text}\n"
      ]
    },
    {
      "cell_type": "code",
      "execution_count": null,
      "metadata": {
        "colab": {
          "base_uri": "https://localhost:8080/"
        },
        "id": "FkL-pWM6fEVr",
        "outputId": "3f25d764-d422-46e5-ecdb-f58832f3dc8f"
      },
      "outputs": [
        {
          "data": {
            "text/plain": [
              "{'query': \"What is vibe coding? Beginner's guide for non-developers\",\n",
              " 'resp_id': 'msg_682b21ea025c819887c6b93bfb8adc930a1eab25e56de795',\n",
              " 'research_output': 'Vibe coding is an innovative approach to software development that enables individuals to create applications by describing their ideas in natural language, such as English, without the need for traditional programming skills. This method leverages artificial intelligence (AI) tools to interpret these descriptions and generate functional code, effectively democratizing software creation for non-developers.\\n\\n**Origins of Vibe Coding**\\n\\nThe term \"vibe coding\" was introduced by computer scientist Andrej Karpathy in February 2025. Karpathy, a co-founder of OpenAI and former AI leader at Tesla, described this approach as a conversational method where he would \"see things, say things, run things, and copy-paste things,\" allowing AI to handle the actual coding process. This concept builds upon his earlier assertion that \"the hottest new programming language is English,\" highlighting the shift towards natural language interfaces in programming. ([en.wikipedia.org](https://en.wikipedia.org/wiki/Vibe_coding?utm_source=openai))\\n\\n**How Vibe Coding Works**\\n\\nIn vibe coding, the user provides a clear, detailed description of the desired application or functionality. AI-powered platforms then interpret these instructions to generate the corresponding code. For example, a user might describe a to-do list app with features like adding tasks, marking them as complete, and filtering tasks by status. The AI tool processes this description and produces a working application that meets these specifications. ([medium.com](https://medium.com/%40nicolle.weeks/the-beginners-guide-to-vibe-coding-b5f1eaf0f3e5?utm_source=openai))\\n\\n**Benefits of Vibe Coding for Non-Developers**\\n\\n- **Accessibility**: No prior coding experience is required, making software development accessible to a broader audience.\\n\\n- **Rapid Prototyping**: Users can quickly transform ideas into functional prototypes, facilitating faster innovation and iteration.\\n\\n- **Focus on Creativity**: By eliminating the need to learn complex programming languages, individuals can concentrate on the creative aspects of application design and functionality.\\n\\n**Getting Started with Vibe Coding**\\n\\n1. **Choose an AI-Powered Development Platform**: Select a user-friendly platform designed for non-developers. Popular options include:\\n\\n   - **Lovable**: An intuitive interface that allows users to build apps by describing their ideas, with features like instant visual feedback and easy deployment. ([medium.com](https://medium.com/%40nicolle.weeks/the-beginners-guide-to-vibe-coding-b5f1eaf0f3e5?utm_source=openai))\\n\\n   - **Replit**: A cloud-based coding environment supporting multiple programming languages, offering AI assistance for code generation and debugging. ([datacamp.com](https://www.datacamp.com/blog/vibe-coding?utm_source=openai))\\n\\n   - **Cursor**: An AI-powered code editor built on Visual Studio Code, providing features for code generation and interactive debugging. ([datacamp.com](https://www.datacamp.com/blog/vibe-coding?utm_source=openai))\\n\\n2. **Define Your Application Requirements**: Clearly articulate what you want your application to do. For instance:\\n\\n   > \"Create a simple to-do list app where users can:\\n\\n   > - Add new tasks\\n\\n   > - Mark tasks as complete\\n\\n   > - Delete tasks\\n\\n   > - Filter tasks by completed/not completed\\n\\n   > Make it look clean and modern with a light blue theme.\"\\n\\n   ([medium.com](https://medium.com/%40nicolle.weeks/the-beginners-guide-to-vibe-coding-b5f1eaf0f3e5?utm_source=openai))\\n\\n3. **Generate and Refine the Application**: Input your description into the chosen platform. The AI will generate the application based on your specifications. Review the output, test its functionality, and make adjustments as needed to ensure it aligns with your vision.\\n\\n**Best Practices for Effective Vibe Coding**\\n\\n- **Be Specific**: Clearly define the features and functionalities you want in your application to guide the AI accurately.\\n\\n- **Iterative Refinement**: Start with a basic prompt and refine it based on the AI\\'s output, improving the results through an iterative process.\\n\\n- **Use Examples**: Provide sample cases or desired outputs to help the AI understand your requirements better.\\n\\n- **Learn Fundamentals**: While vibe coding simplifies the development process, having a basic understanding of programming concepts can enhance your ability to craft effective prompts and understand the AI-generated code. ([medium.com](https://medium.com/%40marcel.mercier/vibe-coding-best-practices-and-workflows-v-i-b-e-s-0bad85053726?utm_source=openai))\\n\\n**Limitations and Considerations**\\n\\nWhile vibe coding offers numerous advantages, it\\'s important to be aware of its limitations:\\n\\n- **Understanding and Accountability**: Relying solely on AI-generated code without fully understanding its functionality can lead to undetected bugs or security vulnerabilities. It\\'s crucial to review and test the code thoroughly. ([en.wikipedia.org](https://en.wikipedia.org/wiki/Vibe_coding?utm_source=openai))\\n\\n- **Complexity Constraints**: Vibe coding is well-suited for simple to moderately complex applications. More intricate projects may still require traditional coding expertise.\\n\\n- **Quality of AI Output**: The effectiveness of vibe coding depends on the quality of the AI tool used. Some tools may produce more accurate and reliable code than others.\\n\\n**Conclusion**\\n\\nVibe coding represents a significant shift in software development, empowering non-developers to bring their ideas to life without the need for extensive programming knowledge. By leveraging AI-powered platforms and following best practices, individuals can create functional applications efficiently and creatively. As with any tool, it\\'s essential to understand its capabilities and limitations to use it effectively. '}"
            ]
          },
          "execution_count": 54,
          "metadata": {},
          "output_type": "execute_result"
        }
      ],
      "source": [
        "# Test the funtion\n",
        "run_search(queries[0])"
      ]
    },
    {
      "cell_type": "markdown",
      "metadata": {
        "id": "xIo4BxqUfncn"
      },
      "source": [
        "# Verifying if we have enough information to reach the goal"
      ]
    },
    {
      "cell_type": "code",
      "execution_count": null,
      "metadata": {
        "id": "-pctvD8XgHCS"
      },
      "outputs": [],
      "source": [
        "# Create a function that evaluates the outcome\n",
        "def evaluate(collected):\n",
        "  review = client.responses.create(\n",
        "      model = MODEL,\n",
        "      input = [\n",
        "          {\"role\": \"developer\", \"content\": f\"Research goal: {goal}\"},\n",
        "          {\"role\": \"assistant\", \"content\": json.dumps(collected)},\n",
        "          {\"role\": \"user\", \"content\": \"Does this information will fully satisfy the goal? Answer Yes or No only.\"}\n",
        "      ],\n",
        "      instructions = developer_message\n",
        "  )\n",
        "  return \"yes\" in review.output[0].content[0].text.lower()"
      ]
    },
    {
      "cell_type": "code",
      "execution_count": null,
      "metadata": {
        "id": "xchZIcw7fq-N"
      },
      "outputs": [],
      "source": [
        "# Verifying if we have enough info\n",
        "collected = []\n",
        "for _ in itertools.count():\n",
        "  for q in queries:\n",
        "    collected.append(run_search(q))\n",
        "  if evaluate(collected):\n",
        "    break\n",
        "\n",
        "  # If no: perform 5 more questions\n",
        "  more_searches = client.responses.create(\n",
        "      model = MODEL,\n",
        "      input = [\n",
        "          {\"role\": \"assistant\", \"content\": f\"Current data: {json.dumps(collected)}\"},\n",
        "          {\"role\": \"user\", \"content\": f\"This has not met the goal: {goal}. Write 5 other web searchs to achieve the goal\"}\n",
        "      ],\n",
        "      instructions = developer_message,\n",
        "      previous_response_id = goal_and_queries.id\n",
        "  )\n",
        "  queries = json.loads(more_searches.output[0].content[0].text)\n"
      ]
    },
    {
      "cell_type": "markdown",
      "metadata": {
        "id": "8oHqut0wj4kb"
      },
      "source": [
        "# Write the final report"
      ]
    },
    {
      "cell_type": "code",
      "execution_count": null,
      "metadata": {
        "colab": {
          "base_uri": "https://localhost:8080/",
          "height": 1000
        },
        "id": "35n76FFej3wC",
        "outputId": "79689c93-d35f-4cd7-e4f3-e9b4ab381269"
      },
      "outputs": [
        {
          "name": "stdout",
          "output_type": "stream",
          "text": [
            "\n",
            "=== FINAL REPORT ===\n"
          ]
        },
        {
          "data": {
            "text/markdown": [
              "# Vibe Coding: A Comprehensive Beginner-to-Advanced Guide for Non-Technical Individuals\n",
              "\n",
              "---\n",
              "\n",
              "## Table of Contents\n",
              "\n",
              "1. **Introduction**\n",
              "2. **Understanding Vibe Coding**\n",
              "3. **Step-by-Step Practical Implementation**\n",
              "4. **Vibe Coding vs. Traditional Coding Methodologies**\n",
              "5. **Case Studies: Real-World Applications for Non-Developers**\n",
              "6. **Current Trends and Future Prospects**\n",
              "7. **Best Practices for Accessibility and Knowledge Sharing**\n",
              "8. **Conclusion**\n",
              "9. **References**\n",
              "\n",
              "---\n",
              "\n",
              "## 1. Introduction\n",
              "\n",
              "Vibe coding, a term popularized in early 2025, represents a paradigm shift in the software development landscape. By leveraging artificial intelligence (AI), vibe coding makes creating applications accessible to those without formal coding knowledge. This guide aims to demystify vibe coding, offering a step-by-step journey from basics to advanced concepts, with a strong emphasis on accessibility, practical implementation, and community knowledge sharing.\n",
              "\n",
              "---\n",
              "\n",
              "## 2. Understanding Vibe Coding\n",
              "\n",
              "**Definition:**  \n",
              "Vibe coding enables the development of software via natural language instructions to an AI assistant, drastically reducing the need for manual, line-by-line coding. Instead, the user describes the application's desired behavior and functionality, and the AI generates, implements, and even explains the underlying code[1].\n",
              "\n",
              "**Core Principles:**\n",
              "\n",
              "- **Natural Language Prompts:** Instead of traditional code, users communicate with the AI using plain English (or another language), describing what they want the application to do.\n",
              "- **Iterative Refinement:** Users review the AI-generated software, test its functionality, and refine further by providing amended instructions.\n",
              "- **Rapid Prototyping:** Applications, especially MVPs (Minimum Viable Products), can be created much more quickly than with traditional hand-coding approaches[2].\n",
              "- **Democratization of Coding:** Vibe coding opens software creation to broader audiences, including entrepreneurs, domain experts, teachers, and hobbyists.\n",
              "\n",
              "**Origins & Notable Milestones:**  \n",
              "The concept was coined by Andrej Karpathy in February 2025, reflecting a movement towards conversational and AI-assisted programming[1].\n",
              "\n",
              "---\n",
              "\n",
              "## 3. Step-by-Step Practical Implementation\n",
              "\n",
              "**Step 1: Define Your Project Goals**\n",
              "- Clearly articulate your application's purpose, audience, and key features.\n",
              "- Example: \"I want an app where users can track their daily habits, mark completions, and review statistics over time.\"\n",
              "\n",
              "**Step 2: Choose a Vibe Coding Tool**\n",
              "- **Lovable:** Translates plain language to functional web apps[3].\n",
              "- **Replit AI/CodeGhost:** Cloud-based with AI-powered code suggestions[4].\n",
              "- **Cursor:** AI-augmented code editor with comprehensive explaining and debugging[4].\n",
              "- **Bolt and Windsurf:** Designed for rapid prototyping and full-stack AI-driven workflows[4].\n",
              "\n",
              "**Step 3: Develop a Clear Prompt**\n",
              "- Use specific, unambiguous language.  \n",
              "- Good: \"Create a to-do list web app. Features: add tasks, mark tasks as complete, delete tasks, filter by completion.\"\n",
              "- Add design details if desired.\n",
              "\n",
              "**Step 4: Generate and Review Code**\n",
              "- Let the AI draft the application.\n",
              "- Test the result, noting any gaps between your vision and the AI-generated output.\n",
              "\n",
              "**Step 5: Iterate and Refine**\n",
              "- Edit your prompt to clarify or expand features as needed.\n",
              "- Continue the cycle: describe → generate → review → refine[5].\n",
              "\n",
              "**Step 6: Learn Fundamental Programming Concepts**\n",
              "- While not strictly necessary, knowing basic logic, loops, or conditionals empowers you to communicate more effectively with the AI and spot errors.\n",
              "\n",
              "**Step 7: Deploy and Share**\n",
              "- Use the platform’s built-in deployment or export options to run your app.\n",
              "- Share your creation or your process with the community to foster knowledge exchange.\n",
              "\n",
              "---\n",
              "\n",
              "## 4. Vibe Coding vs. Traditional Coding Methodologies\n",
              "\n",
              "| Aspect                  | Vibe Coding                                       | Traditional Coding                                           |\n",
              "|-------------------------|---------------------------------------------------|--------------------------------------------------------------|\n",
              "| Approach                | Conversational, natural language instructions     | Manual scripting in programming languages                    |\n",
              "| Technical Requirements  | Minimal                                           | Moderate to advanced                                         |\n",
              "| Speed                   | Fast prototyping, quick cycles                    | Slower, more deliberate                                      |\n",
              "| Control & Flexibility   | Limited by AI’s capability                        | Unlimited, precise granularity                               |\n",
              "| Use Cases               | Simple to intermediate apps, MVPs, internal tools | All, especially high-complexity, large-scale applications    |\n",
              "| Learning Curve          | Shallow                                           | Steep                                                        |\n",
              "| Maintenance             | Dependent on AI tool’s ecosystem                  | Full access, manageable but requires knowledge               |\n",
              "| Suitability for Beginners | High                                             | Low                                                          |\n",
              "\n",
              "Vibe coding is not a universal solution but an excellent gateway and accelerator, particularly for prototyping, learning, or simple deployment. For mission-critical, performance-intensive, or highly specialized projects, traditional methods still offer unmatched control[6].\n",
              "\n",
              "---\n",
              "\n",
              "## 5. Case Studies: Real-World Applications for Non-Developers\n",
              "\n",
              "**1. Content Genie**  \n",
              "A content marketer, with no formal coding background, built Content Genie—a SaaS generating blog topics and first drafts—using vibe coding tools in under an hour. The tool now serves paying subscribers[7].\n",
              "\n",
              "**2. Multiplayer Flight Simulator**\n",
              "A hobbyist non-developer created a browser-based flight simulator played by thousands, completed within 24 hours using AI assistance[7].\n",
              "\n",
              "**3. Local Business Directory Website**\n",
              "A community organizer constructed a business directory site featuring listings, events, and submissions using AI-powered tooling—demonstrating accessible web development[8].\n",
              "\n",
              "**4. DaddyTime**\n",
              "A parent created an app that curates local activities for children, integrating calendar and weather data, all developed in about 30 minutes through iterative plain-language prompts[9].\n",
              "\n",
              "**5. SEO ROI Calculator, Personalized Tools**\n",
              "Entrepreneurs and freelance professionals have built tools like ROI calculators and personalized dashboards—formerly the domain of technical experts—using vibe coding tools[10][11].\n",
              "\n",
              "---\n",
              "\n",
              "## 6. Current Trends and Future Prospects\n",
              "\n",
              "**Trends:**\n",
              "- Integration of AI across development platforms (e.g., Copilot, Ghostwriter).\n",
              "- Increasing focus on accessibility and lowering skill barriers[12].\n",
              "- Education adoption: Teaching computational thinking and logic via AI tools rather than syntax-focused courses[13].\n",
              "- Enhanced UX/UI design, with AI able to generate visually appealing and accessible interfaces.\n",
              "\n",
              "**Future Prospects:**\n",
              "- **Specialized AI Models:** Fine-tuned AIs for finance, healthcare, education, etc.[14].\n",
              "- **Self-Healing Code:** AI agents maintaining codebases, fixing bugs, and optimizing performance automatically[15].\n",
              "- **Expanded Team Roles:** Developers becoming AI curators/trainers, system architects, and ethical stewards.\n",
              "- **Ethics and Security:** Growth in tools for code audit, transparency, and bias eradication[16].\n",
              "- **Legal and IP Evolution:** Clearer frameworks on the ownership of AI-generated software[17].\n",
              "\n",
              "**Challenges:**\n",
              "- Quality and security of automatically generated code must be rigorously checked.\n",
              "- Potential loss of deep technical skills if over-reliance on “black box” tools develops.\n",
              "- AI limitations in high-complexity, domain-specific, or mission-critical scenarios[16].\n",
              "\n",
              "---\n",
              "\n",
              "## 7. Best Practices for Accessibility and Knowledge Sharing\n",
              "\n",
              "- **Share Clear Prompts and Tutorials:** Documentation and community platforms should prioritize sharing effective examples.\n",
              "- **Contextual Hints:** Explain not just “what” you asked the AI, but “why” and “how” you iterated.\n",
              "- **Open Repositories:** Where possible, open-source vibe-coded projects to foster remixing and learning.\n",
              "- **Feedback Loops:** Join and contribute to forums, user groups, and Q&A platforms focused on vibe coding.\n",
              "- **Continuous Learning:** Stay updated with platform enhancements, new best practices, and AI-guided learning modules.\n",
              "\n",
              "---\n",
              "\n",
              "## 8. Conclusion\n",
              "\n",
              "Vibe coding is fundamentally changing who can participate in software creation. While not a panacea, it enables rapid prototyping, fosters creativity, and democratizes access to technology. Non-technical individuals stand poised to play a direct role in software innovation—but should also remain mindful of AI’s current limitations, ongoing learning, and responsible deployment practices.\n",
              "\n",
              "---\n",
              "\n",
              "## 9. References\n",
              "\n",
              "1. [en.wikipedia.org: Vibe coding](https://en.wikipedia.org/wiki/Vibe_coding?utm_source=openai)\n",
              "2. [datacamp.com: Vibe coding tools explained](https://www.datacamp.com/blog/vibe-coding?utm_source=openai)\n",
              "3. [medium.com: Beginner’s Guide to Vibe Coding](https://medium.com/%40nicolle.weeks/the-beginners-guide-to-vibe-coding-b5f1eaf0f3e5?utm_source=openai)\n",
              "4. [datacamp.com: AI Tools for Vibe Coding](https://www.datacamp.com/blog/vibe-coding?utm_source=openai)\n",
              "5. [blog.getbind.co: How to Code Using Vibe Coding Tools](https://blog.getbind.co/2025/04/21/what-is-vibe-coding-how-to-code-using-vibe-coding-tools/?utm_source=openai)\n",
              "6. [hostinger.com: Vibe Coding vs. Traditional Coding](https://www.hostinger.com/tutorials/vibe-coding-vs-traditional-coding?utm_source=openai)\n",
              "7. [geekextreme.com: What is Vibe Coding?](https://www.geekextreme.com/what-is-vibe-coding/?utm_source=openai)\n",
              "8. [serpentity.co.uk: Vibe Coding Case Study – Local Business Directory](https://serpentity.co.uk/web-design/vibe-coding-case-study-local-business-directory/?utm_source=openai)\n",
              "9. [trickle.so: Vibe Coding vs. Traditional Development](https://www.trickle.so/blog/vibe-coding-vs-traditional-development?utm_source=openai)\n",
              "10. [indiehackers.com: 8 Vibe Coders Building Real SaaS MVPs](https://www.indiehackers.com/post/8-vibe-coders-who-are-building-real-saas-mvps-not-just-games-ItN5XsfrbQ2RCwawoIqn?utm_source=openai)\n",
              "11. [alitu.com: What is Vibe Coding](https://alitu.com/creator/workflow/what-is-vibe-coding/?utm_source=openai)\n",
              "12. [247labs.com: The Rise of Vibe Coding](https://247labs.com/the-rise-of-vibe-coding-the-future-of-ai-driven-software-creation/?utm_source=openai)\n",
              "13. [arsturn.com: The Future of Vibe Coding – Trends](https://www.arsturn.com/blog/the-future-of-vibe-coding-trends-to-watch-in-software-development?utm_source=openai)\n",
              "14. [northboundadvisory.com: Vibe Coding – Beyond the Basics](https://www.northboundadvisory.com/blog/vibe-coding?utm_source=openai)\n",
              "15. [zbrain.ai: What Is Vibe Coding?](https://zbrain.ai/what-is-vibe-coding/?utm_source=openai)\n",
              "16. [ishir.com: Is Vibe Coding the Future of Software Development?](https://www.ishir.com/blog/141419/is-vibe-coding-the-future-of-software-development.htm?utm_source=openai)\n",
              "17. [ishir.com: Ownership and Legal Issues in Vibe Coding](https://www.ishir.com/blog/141419/is-vibe-coding-the-future-of-software-development.htm?utm_source=openai)\n",
              "\n",
              "---\n",
              "\n",
              "This guide is designed to evolve with the community and technology. Engage, build, and share—welcome to the future of accessible software development!"
            ],
            "text/plain": [
              "<IPython.core.display.Markdown object>"
            ]
          },
          "metadata": {},
          "output_type": "display_data"
        }
      ],
      "source": [
        "# Use the responses endpoint to write the deep research report\n",
        "report = client.responses.create(\n",
        "    model = MODEL,\n",
        "    input = [\n",
        "        {\"role\": \"developer\", \"content\": (f\"Write a complete and detailed report about research goal: {goal}\"\n",
        "                                        \"Cite Sources inline using [n] and append a reference\"\n",
        "                                        \"list mapping [n] to url\")},\n",
        "        {\"role\": \"assistant\", \"content\": json.dumps(collected)}],\n",
        "    instructions = developer_message\n",
        ")\n",
        "print(\"\\n=== FINAL REPORT ===\")\n",
        "display(Markdown(report.output[0].content[0].text))"
      ]
    },
    {
      "cell_type": "code",
      "execution_count": null,
      "metadata": {
        "colab": {
          "base_uri": "https://localhost:8080/"
        },
        "id": "qugerCQSo7aN",
        "outputId": "cdb1cec1-3d3b-4cbd-a387-9821a89064ad"
      },
      "outputs": [
        {
          "name": "stdout",
          "output_type": "stream",
          "text": [
            "Name: openai\n",
            "Version: 1.78.1\n",
            "Summary: The official Python library for the openai API\n",
            "Home-page: https://github.com/openai/openai-python\n",
            "Author: \n",
            "Author-email: OpenAI <support@openai.com>\n",
            "License: Apache-2.0\n",
            "Location: /usr/local/lib/python3.11/dist-packages\n",
            "Requires: anyio, distro, httpx, jiter, pydantic, sniffio, tqdm, typing-extensions\n",
            "Required-by: \n"
          ]
        }
      ],
      "source": [
        "!pip show openai"
      ]
    }
  ],
  "metadata": {
    "colab": {
      "provenance": [],
      "toc_visible": true
    },
    "kernelspec": {
      "display_name": "Python 3",
      "name": "python3"
    },
    "language_info": {
      "name": "python"
    }
  },
  "nbformat": 4,
  "nbformat_minor": 0
}
